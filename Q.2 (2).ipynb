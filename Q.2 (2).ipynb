{
 "cells": [
  {
   "cell_type": "code",
   "execution_count": null,
   "id": "c213a9b6-db09-491d-9ff4-3e99c7d2aa59",
   "metadata": {},
   "outputs": [],
   "source": [
    "\"\"\"Q.2.Name the four pillars of the OOPs.\n",
    "\n",
    "Ans-The Four pillars of object-oriented programmings are\n",
    "\n",
    "1. Encapsulation:\n",
    "    Encapsulation is the concept of bundling data(attributes)\n",
    "    and methods(functions) that operate on that data into a \n",
    "    single unit called a class. It helps in data hiding and\n",
    "    protecting the internal state of an object.\n",
    "\n",
    "2. Abstraction:\n",
    "    Abstraction refers to the process of simplifying complex \n",
    "    reality by modeling classes based on the essential \n",
    "    properties and behaviours an object should have. It hides\n",
    "    the complex implementation details and focuses on the \n",
    "    essential features.\n",
    "    \n",
    "3. Inheritance:\n",
    "    Inheritance is a mechanism in which a new class can inherit\n",
    "    properties and behaviours (attributes and methods) from an \n",
    "    existing class. It promotes code reusability and the \n",
    "    creation of hierarchies of classes.\n",
    "    \n",
    "4. Polymorphism:\n",
    "    Polymorphism allows objects of different classes to be \n",
    "    treated as objects of a common superclass. It enables\n",
    "    flexibility and dynamic behaviour,where the same method\n",
    "    name can behave differently depending on the object that calls\n",
    "    it.\n",
    "    \"\"\"\n"
   ]
  },
  {
   "cell_type": "code",
   "execution_count": null,
   "id": "c6a61889-ddab-4c8e-9d93-49023642691d",
   "metadata": {},
   "outputs": [],
   "source": []
  }
 ],
 "metadata": {
  "kernelspec": {
   "display_name": "Python 3 (ipykernel)",
   "language": "python",
   "name": "python3"
  },
  "language_info": {
   "codemirror_mode": {
    "name": "ipython",
    "version": 3
   },
   "file_extension": ".py",
   "mimetype": "text/x-python",
   "name": "python",
   "nbconvert_exporter": "python",
   "pygments_lexer": "ipython3",
   "version": "3.10.8"
  }
 },
 "nbformat": 4,
 "nbformat_minor": 5
}
