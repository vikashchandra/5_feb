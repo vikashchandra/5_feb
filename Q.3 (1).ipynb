{
 "cells": [
  {
   "cell_type": "code",
   "execution_count": 2,
   "id": "bcb9fb2f-511c-400f-bd0a-0929742c7a88",
   "metadata": {},
   "outputs": [
    {
     "name": "stdout",
     "output_type": "stream",
     "text": [
      "details: <bound method bike.return_details of <__main__.bike object at 0x7f2f08629360>>\n",
      "details: <bound method bike.return_details of <__main__.bike object at 0x7f2f08629b40>>\n"
     ]
    }
   ],
   "source": [
    "\"\"\"\n",
    "Q.3. Explain why the __init__() function is used. Give a suitable\n",
    "example.\n",
    "Ans- the '__init__()' function in Python is a special method also \n",
    "known as a constructor. It is used to initialize the attributes or\n",
    "properties of an object when an instance of a class is create \n",
    "\"\"\"\n",
    "class bike:\n",
    "    def __init__(self,name,model):\n",
    "        self.name=name\n",
    "        self.model=model\n",
    "    def return_details(self):\n",
    "        return self.name,self.model\n",
    "\n",
    "a=bike(\"HERO\",\"Splendor+\")\n",
    "b=bike(\"BAJAJ\",\"Boxer\")\n",
    "\n",
    "print(\"details:\",a.return_details)\n",
    "print(\"details:\",b.return_details)"
   ]
  },
  {
   "cell_type": "code",
   "execution_count": null,
   "id": "7f4c9472-6d7b-4726-8639-df3070fa0f1f",
   "metadata": {},
   "outputs": [],
   "source": []
  }
 ],
 "metadata": {
  "kernelspec": {
   "display_name": "Python 3 (ipykernel)",
   "language": "python",
   "name": "python3"
  },
  "language_info": {
   "codemirror_mode": {
    "name": "ipython",
    "version": 3
   },
   "file_extension": ".py",
   "mimetype": "text/x-python",
   "name": "python",
   "nbconvert_exporter": "python",
   "pygments_lexer": "ipython3",
   "version": "3.10.8"
  }
 },
 "nbformat": 4,
 "nbformat_minor": 5
}
