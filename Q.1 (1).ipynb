{
 "cells": [
  {
   "cell_type": "code",
   "execution_count": 4,
   "id": "552f39d9-6993-4bf2-a15d-acfe7a4f5d5b",
   "metadata": {},
   "outputs": [
    {
     "name": "stdout",
     "output_type": "stream",
     "text": [
      "Here we declare a class and its object and some function\n",
      "This is mountain bicycle\n",
      "This is sports bicycle\n",
      "This is touring bicycle\n"
     ]
    }
   ],
   "source": [
    "\"\"\"Q.1.Explain class and object with respect to object oriented \n",
    "programming. Give a suitable example.\n",
    "\n",
    "Ans-A class is a code template for creating objects. Objects have \n",
    "member variables and have behaviour associated with them. In python\n",
    "a class is created by the keyword 'class'. An object is created\n",
    "using the constructor of the class.This object will then be called \n",
    "the instance of the class.\n",
    "for example suppose Bicycle is class then MountainBicycle,\n",
    "SportsBicycle,TouringBicycle ,etc can be considered as objects of the class.\n",
    "\n",
    "\"\"\"\n",
    "class bicycle:\n",
    "    def MB(self):\n",
    "        print(\"This is mountain bicycle\")\n",
    "    def SB(self):\n",
    "        print(\"This is sports bicycle\")\n",
    "    def TB(self):\n",
    "        print(\"This is touring bicycle\")\n",
    "\n",
    "mountainbicycle=bicycle()\n",
    "sportsbicycle=bicycle()\n",
    "touringbicycle=bicycle()\n",
    "print(\"Here we declare a class and its object and some function\") \n",
    "mountainbicycle.MB()\n",
    "sportsbicycle.SB()\n",
    "touringbicycle.TB()\n"
   ]
  },
  {
   "cell_type": "code",
   "execution_count": null,
   "id": "36c48e5f-701a-49b1-919c-33017673a99e",
   "metadata": {},
   "outputs": [],
   "source": []
  }
 ],
 "metadata": {
  "kernelspec": {
   "display_name": "Python 3 (ipykernel)",
   "language": "python",
   "name": "python3"
  },
  "language_info": {
   "codemirror_mode": {
    "name": "ipython",
    "version": 3
   },
   "file_extension": ".py",
   "mimetype": "text/x-python",
   "name": "python",
   "nbconvert_exporter": "python",
   "pygments_lexer": "ipython3",
   "version": "3.10.8"
  }
 },
 "nbformat": 4,
 "nbformat_minor": 5
}
