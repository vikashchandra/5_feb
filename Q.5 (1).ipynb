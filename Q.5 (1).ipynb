{
 "cells": [
  {
   "cell_type": "code",
   "execution_count": 1,
   "id": "d78d3496-5604-449f-a479-bc8cc9884888",
   "metadata": {},
   "outputs": [
    {
     "name": "stdout",
     "output_type": "stream",
     "text": [
      "Single inheritance\n",
      "This function is in parent class.\n",
      "This function is in child class.\n"
     ]
    }
   ],
   "source": [
    "\"\"\"\n",
    "Q.5. What is inheritance? Give an example for each type of inheritance.\n",
    "Ans- Inheritance is the concept in OOPs in which one class \n",
    "inherits the attributes and methods of another class. The class \n",
    "whose properties and methods are inherited is known as the Parent\n",
    "class. And the class that inherits the properties from the parent \n",
    "class is the Child class.\n",
    "There are five types of inheritance in Python \n",
    "(1) single (2) multiple (3) multilevel (4) hierarchical \n",
    "(5) hybrid inheritance.\n",
    "\"\"\"\n",
    "print(\"Single inheritance\")\n",
    "\"\"\"\n",
    "Single Inheritance: \n",
    "Single inheritance enables a derived class to inherit properties\n",
    "from a single parent class, thus enabling code reusability and \n",
    "the addition of new features to existing code.\n",
    "\"\"\"\n",
    "# single inheritance\n",
    "# Base class\n",
    "class Parent:\n",
    "\tdef func1(self):\n",
    "\t\tprint(\"This function is in parent class.\")\n",
    "# Derived class\n",
    "class Child(Parent):\n",
    "\tdef func2(self):\n",
    "\t\tprint(\"This function is in child class.\")\n",
    "# Driver's code\n",
    "object = Child()\n",
    "object.func1()\n",
    "object.func2()\n"
   ]
  },
  {
   "cell_type": "code",
   "execution_count": null,
   "id": "c8fa6200-fa95-490b-8e0c-8792f5938c6d",
   "metadata": {},
   "outputs": [],
   "source": []
  }
 ],
 "metadata": {
  "kernelspec": {
   "display_name": "Python 3 (ipykernel)",
   "language": "python",
   "name": "python3"
  },
  "language_info": {
   "codemirror_mode": {
    "name": "ipython",
    "version": 3
   },
   "file_extension": ".py",
   "mimetype": "text/x-python",
   "name": "python",
   "nbconvert_exporter": "python",
   "pygments_lexer": "ipython3",
   "version": "3.10.8"
  }
 },
 "nbformat": 4,
 "nbformat_minor": 5
}
