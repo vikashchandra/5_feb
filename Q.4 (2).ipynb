{
 "cells": [
  {
   "cell_type": "code",
   "execution_count": null,
   "id": "b4cbe4e7-27e5-4377-b188-ed53d2c47ab3",
   "metadata": {},
   "outputs": [],
   "source": [
    "\"\"\"\n",
    "Q.4. why self is used in OOPs?\n",
    "Ans- The self variable is used to represent the instance of the\n",
    "class which is often used in object-oriented programming.\n",
    "It works as a reference to the object. Python uses the self \n",
    "parameter to refer to instance attributes and methods of the\n",
    "class.\n",
    "\"\"\""
   ]
  }
 ],
 "metadata": {
  "kernelspec": {
   "display_name": "Python 3 (ipykernel)",
   "language": "python",
   "name": "python3"
  },
  "language_info": {
   "codemirror_mode": {
    "name": "ipython",
    "version": 3
   },
   "file_extension": ".py",
   "mimetype": "text/x-python",
   "name": "python",
   "nbconvert_exporter": "python",
   "pygments_lexer": "ipython3",
   "version": "3.10.8"
  }
 },
 "nbformat": 4,
 "nbformat_minor": 5
}
